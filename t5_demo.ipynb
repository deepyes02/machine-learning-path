{
  "cells": [
    {
      "cell_type": "markdown",
      "metadata": {},
      "source": [
        "\n",
        "# T5-Base Model for Summarization, Sentiment Classification, and Translation\n",
        "\n",
        "**Author**: [Pendo Abbo](pabbo@fb.com)_, [Joe Cummings](jrcummings@fb.com)_\n"
      ]
    },
    {
      "cell_type": "markdown",
      "metadata": {},
      "source": [
        "## Overview\n",
        "\n",
        "This tutorial demonstrates how to use a pre-trained T5 Model for summarization, sentiment classification, and\n",
        "translation tasks. We will demonstrate how to use the torchtext library to:\n",
        "\n",
        "1. Build a text pre-processing pipeline for a T5 model\n",
        "2. Instantiate a pre-trained T5 model with base configuration\n",
        "3. Read in the CNNDM, IMDB, and Multi30k datasets and pre-process their texts in preparation for the model\n",
        "4. Perform text summarization, sentiment classification, and translation\n",
        "\n",
        "\n",
        "\n"
      ]
    },
    {
      "cell_type": "markdown",
      "metadata": {},
      "source": [
        "## Data Transformation\n",
        "\n",
        "The T5 model does not work with raw text. Instead, it requires the text to be transformed into numerical form\n",
        "in order to perform training and inference. The following transformations are required for the T5 model:\n",
        "\n",
        "1. Tokenize text\n",
        "2. Convert tokens into (integer) IDs\n",
        "3. Truncate the sequences to a specified maximum length\n",
        "4. Add end-of-sequence (EOS) and padding token IDs\n",
        "\n",
        "T5 uses a SentencePiece model for text tokenization. Below, we use a pre-trained SentencePiece model to build\n",
        "the text pre-processing pipeline using torchtext's T5Transform. Note that the transform supports both\n",
        "batched and non-batched text input (for example, one can either pass a single sentence or a list of sentences), however\n",
        "the T5 model expects the input to be batched.\n",
        "\n",
        "\n"
      ]
    },
    {
      "cell_type": "code",
      "execution_count": 2,
      "metadata": {
        "collapsed": false
      },
      "outputs": [
        {
          "name": "stderr",
          "output_type": "stream",
          "text": [
            "/Users/deepesh/Desktop/py-torch/env/lib/python3.12/site-packages/torchtext/models/__init__.py:4: UserWarning: \n",
            "/!\\ IMPORTANT WARNING ABOUT TORCHTEXT STATUS /!\\ \n",
            "Torchtext is deprecated and the last released version will be 0.18 (this one). You can silence this warning by calling the following at the beginnign of your scripts: `import torchtext; torchtext.disable_torchtext_deprecation_warning()`\n",
            "  warnings.warn(torchtext._TORCHTEXT_DEPRECATION_MSG)\n",
            "/Users/deepesh/Desktop/py-torch/env/lib/python3.12/site-packages/torchtext/transforms.py:4: UserWarning: \n",
            "/!\\ IMPORTANT WARNING ABOUT TORCHTEXT STATUS /!\\ \n",
            "Torchtext is deprecated and the last released version will be 0.18 (this one). You can silence this warning by calling the following at the beginnign of your scripts: `import torchtext; torchtext.disable_torchtext_deprecation_warning()`\n",
            "  warnings.warn(torchtext._TORCHTEXT_DEPRECATION_MSG)\n",
            "/Users/deepesh/Desktop/py-torch/env/lib/python3.12/site-packages/torchtext/data/__init__.py:4: UserWarning: \n",
            "/!\\ IMPORTANT WARNING ABOUT TORCHTEXT STATUS /!\\ \n",
            "Torchtext is deprecated and the last released version will be 0.18 (this one). You can silence this warning by calling the following at the beginnign of your scripts: `import torchtext; torchtext.disable_torchtext_deprecation_warning()`\n",
            "  warnings.warn(torchtext._TORCHTEXT_DEPRECATION_MSG)\n",
            "/Users/deepesh/Desktop/py-torch/env/lib/python3.12/site-packages/torchtext/utils.py:4: UserWarning: \n",
            "/!\\ IMPORTANT WARNING ABOUT TORCHTEXT STATUS /!\\ \n",
            "Torchtext is deprecated and the last released version will be 0.18 (this one). You can silence this warning by calling the following at the beginnign of your scripts: `import torchtext; torchtext.disable_torchtext_deprecation_warning()`\n",
            "  warnings.warn(torchtext._TORCHTEXT_DEPRECATION_MSG)\n",
            "/Users/deepesh/Desktop/py-torch/env/lib/python3.12/site-packages/torchtext/vocab/__init__.py:4: UserWarning: \n",
            "/!\\ IMPORTANT WARNING ABOUT TORCHTEXT STATUS /!\\ \n",
            "Torchtext is deprecated and the last released version will be 0.18 (this one). You can silence this warning by calling the following at the beginnign of your scripts: `import torchtext; torchtext.disable_torchtext_deprecation_warning()`\n",
            "  warnings.warn(torchtext._TORCHTEXT_DEPRECATION_MSG)\n",
            "/Users/deepesh/Desktop/py-torch/env/lib/python3.12/site-packages/torchtext/functional.py:4: UserWarning: \n",
            "/!\\ IMPORTANT WARNING ABOUT TORCHTEXT STATUS /!\\ \n",
            "Torchtext is deprecated and the last released version will be 0.18 (this one). You can silence this warning by calling the following at the beginnign of your scripts: `import torchtext; torchtext.disable_torchtext_deprecation_warning()`\n",
            "  warnings.warn(torchtext._TORCHTEXT_DEPRECATION_MSG)\n",
            "/Users/deepesh/Desktop/py-torch/env/lib/python3.12/site-packages/torchtext/prototype/__init__.py:4: UserWarning: \n",
            "/!\\ IMPORTANT WARNING ABOUT TORCHTEXT STATUS /!\\ \n",
            "Torchtext is deprecated and the last released version will be 0.18 (this one). You can silence this warning by calling the following at the beginnign of your scripts: `import torchtext; torchtext.disable_torchtext_deprecation_warning()`\n",
            "  warnings.warn(torchtext._TORCHTEXT_DEPRECATION_MSG)\n",
            "100%|██████████| 792k/792k [00:00<00:00, 16.5MB/s]\n"
          ]
        }
      ],
      "source": [
        "from torchtext.models import T5Transform\n",
        "\n",
        "padding_idx = 0\n",
        "eos_idx = 1\n",
        "max_seq_len = 512\n",
        "\n",
        "transform = T5Transform(\n",
        "    sp_model_path=t5_sp_model_path,\n",
        "    max_seq_len=max_seq_len,\n",
        "    eos_idx=eos_idx,\n",
        "    padding_idx=padding_idx,\n",
        ")"
      ]
    },
    {
      "cell_type": "markdown",
      "metadata": {},
      "source": [
        "Alternatively, we can also use the transform shipped with the pre-trained models that does all of the above out-of-the-box\n",
        "\n",
        "```\n",
        "from torchtext.models import T5_BASE_GENERATION\n",
        "transform = T5_BASE_GENERATION.transform()\n",
        "```\n"
      ]
    },
    {
      "cell_type": "markdown",
      "metadata": {},
      "source": [
        "## Model Preparation\n",
        "\n",
        "torchtext provides SOTA pre-trained models that can be used directly for NLP tasks or fine-tuned on downstream tasks. Below\n",
        "we use the pre-trained T5 model with standard base configuration to perform text summarization, sentiment classification, and\n",
        "translation. For additional details on available pre-trained models, see [the torchtext documentation](https://pytorch.org/text/main/models.html)_\n",
        "\n",
        "\n",
        "\n"
      ]
    },
    {
      "cell_type": "code",
      "execution_count": null,
      "metadata": {
        "collapsed": false
      },
      "outputs": [],
      "source": [
        "from torchtext.models import T5_BASE_GENERATION\n",
        "\n",
        "\n",
        "t5_base = T5_BASE_GENERATION\n",
        "transform = t5_base.transform()\n",
        "model = t5_base.get_model()\n",
        "model.eval()"
      ]
    },
    {
      "cell_type": "markdown",
      "metadata": {},
      "source": [
        "## GenerationUtils\n",
        "\n",
        "We can use torchtext's ``GenerationUtils`` to produce an output sequence based on the input sequence provided. This calls on the\n",
        "model's encoder and decoder, and iteratively expands the decoded sequences until the end-of-sequence token is generated\n",
        "for all sequences in the batch. The ``generate`` method shown below uses greedy search to generate the sequences. Beam search and\n",
        "other decoding strategies are also supported.\n",
        "\n",
        "\n",
        "\n"
      ]
    },
    {
      "cell_type": "code",
      "execution_count": null,
      "metadata": {
        "collapsed": false
      },
      "outputs": [],
      "source": [
        "from torchtext.prototype.generate import GenerationUtils\n",
        "\n",
        "sequence_generator = GenerationUtils(model)"
      ]
    },
    {
      "cell_type": "markdown",
      "metadata": {},
      "source": [
        "## Datasets\n",
        "torchtext provides several standard NLP datasets. For a complete list, refer to the documentation\n",
        "at https://pytorch.org/text/stable/datasets.html. These datasets are built using composable torchdata\n",
        "datapipes and hence support standard flow-control and mapping/transformation using user defined\n",
        "functions and transforms.\n",
        "\n",
        "Below we demonstrate how to pre-process the CNNDM dataset to include the prefix necessary for the\n",
        "model to indentify the task it is performing. The CNNDM dataset has a train, validation, and test\n",
        "split. Below we demo on the test split.\n",
        "\n",
        "The T5 model uses the prefix \"summarize\" for text summarization. For more information on task\n",
        "prefixes, please visit Appendix D of the [T5 Paper](https://arxiv.org/pdf/1910.10683.pdf)_\n",
        "\n",
        "<div class=\"alert alert-info\"><h4>Note</h4><p>Using datapipes is still currently subject to a few caveats. If you wish\n",
        "      to extend this example to include shuffling, multi-processing, or\n",
        "      distributed learning, please see `this note <datapipes_warnings>`\n",
        "      for further instructions.</p></div>\n",
        "\n"
      ]
    },
    {
      "cell_type": "code",
      "execution_count": null,
      "metadata": {
        "collapsed": false
      },
      "outputs": [],
      "source": [
        "from functools import partial\n",
        "\n",
        "from torch.utils.data import DataLoader\n",
        "from torchtext.datasets import CNNDM\n",
        "\n",
        "cnndm_batch_size = 5\n",
        "cnndm_datapipe = CNNDM(split=\"test\")\n",
        "task = \"summarize\"\n",
        "\n",
        "\n",
        "def apply_prefix(task, x):\n",
        "    return f\"{task}: \" + x[0], x[1]\n",
        "\n",
        "\n",
        "cnndm_datapipe = cnndm_datapipe.map(partial(apply_prefix, task))\n",
        "cnndm_datapipe = cnndm_datapipe.batch(cnndm_batch_size)\n",
        "cnndm_datapipe = cnndm_datapipe.rows2columnar([\"article\", \"abstract\"])\n",
        "cnndm_dataloader = DataLoader(cnndm_datapipe, shuffle=True, batch_size=None)"
      ]
    },
    {
      "cell_type": "markdown",
      "metadata": {},
      "source": [
        "Alternately, we can also use batched API, for example, apply the prefix on the whole batch:\n",
        "\n",
        "```\n",
        "def batch_prefix(task, x):\n",
        " return {\n",
        "     \"article\": [f'{task}: ' + y for y in x[\"article\"]],\n",
        "     \"abstract\": x[\"abstract\"]\n",
        " }\n",
        "\n",
        "cnndm_batch_size = 5\n",
        "cnndm_datapipe = CNNDM(split=\"test\")\n",
        "task = 'summarize'\n",
        "\n",
        "cnndm_datapipe = cnndm_datapipe.batch(cnndm_batch_size).rows2columnar([\"article\", \"abstract\"])\n",
        "cnndm_datapipe = cnndm_datapipe.map(partial(batch_prefix, task))\n",
        "cnndm_dataloader = DataLoader(cnndm_datapipe, batch_size=None)\n",
        "```\n"
      ]
    },
    {
      "cell_type": "markdown",
      "metadata": {},
      "source": [
        "We can also load the IMDB dataset, which will be used to demonstrate sentiment classification using the T5 model.\n",
        "This dataset has a train and test split. Below we demo on the test split.\n",
        "\n",
        "The T5 model was trained on the SST2 dataset (also available in torchtext) for sentiment classification using the\n",
        "prefix \"sst2 sentence\". Therefore, we will use this prefix to perform sentiment classification on the IMDB dataset.\n",
        "\n",
        "\n"
      ]
    },
    {
      "cell_type": "code",
      "execution_count": null,
      "metadata": {
        "collapsed": false
      },
      "outputs": [],
      "source": [
        "from torchtext.datasets import IMDB\n",
        "\n",
        "imdb_batch_size = 3\n",
        "imdb_datapipe = IMDB(split=\"test\")\n",
        "task = \"sst2 sentence\"\n",
        "labels = {\"1\": \"negative\", \"2\": \"positive\"}\n",
        "\n",
        "\n",
        "def process_labels(labels, x):\n",
        "    return x[1], labels[str(x[0])]\n",
        "\n",
        "\n",
        "imdb_datapipe = imdb_datapipe.map(partial(process_labels, labels))\n",
        "imdb_datapipe = imdb_datapipe.map(partial(apply_prefix, task))\n",
        "imdb_datapipe = imdb_datapipe.batch(imdb_batch_size)\n",
        "imdb_datapipe = imdb_datapipe.rows2columnar([\"text\", \"label\"])\n",
        "imdb_dataloader = DataLoader(imdb_datapipe, batch_size=None)"
      ]
    },
    {
      "cell_type": "markdown",
      "metadata": {},
      "source": [
        "Finally, we can also load the Multi30k dataset to demonstrate English to German translation using the T5 model.\n",
        "This dataset has a train, validation, and test split. Below we demo on the test split.\n",
        "\n",
        "The T5 model uses the prefix \"translate English to German\" for this task.\n",
        "\n"
      ]
    },
    {
      "cell_type": "code",
      "execution_count": null,
      "metadata": {
        "collapsed": false
      },
      "outputs": [],
      "source": [
        "from torchtext.datasets import Multi30k\n",
        "\n",
        "multi_batch_size = 5\n",
        "language_pair = (\"en\", \"de\")\n",
        "multi_datapipe = Multi30k(split=\"test\", language_pair=language_pair)\n",
        "task = \"translate English to German\"\n",
        "\n",
        "multi_datapipe = multi_datapipe.map(partial(apply_prefix, task))\n",
        "multi_datapipe = multi_datapipe.batch(multi_batch_size)\n",
        "multi_datapipe = multi_datapipe.rows2columnar([\"english\", \"german\"])\n",
        "multi_dataloader = DataLoader(multi_datapipe, batch_size=None)"
      ]
    },
    {
      "cell_type": "markdown",
      "metadata": {},
      "source": [
        "## Generate Summaries\n",
        "\n",
        "We can put all of the components together to generate summaries on the first batch of articles in the CNNDM test set\n",
        "using a beam size of 1.\n",
        "\n",
        "\n"
      ]
    },
    {
      "cell_type": "code",
      "execution_count": null,
      "metadata": {
        "collapsed": false
      },
      "outputs": [],
      "source": [
        "batch = next(iter(cnndm_dataloader))\n",
        "input_text = batch[\"article\"]\n",
        "target = batch[\"abstract\"]\n",
        "beam_size = 1\n",
        "\n",
        "model_input = transform(input_text)\n",
        "model_output = sequence_generator.generate(model_input, eos_idx=eos_idx, num_beams=beam_size)\n",
        "output_text = transform.decode(model_output.tolist())\n",
        "\n",
        "for i in range(cnndm_batch_size):\n",
        "    print(f\"Example {i+1}:\\n\")\n",
        "    print(f\"prediction: {output_text[i]}\\n\")\n",
        "    print(f\"target: {target[i]}\\n\\n\")"
      ]
    },
    {
      "cell_type": "markdown",
      "metadata": {},
      "source": [
        "## Summarization Output (Might vary since we shuffle the dataloader)\n",
        "\n",
        "```\n",
        "Example 1:\n",
        "\n",
        "prediction: the 24-year-old has been tattooed for over a decade . he has landed in australia\n",
        "to start work on a new campaign . he says he is 'taking it in your stride' to be honest .\n",
        "\n",
        "target: London-based model Stephen James Hendry famed for his full body tattoo . The supermodel\n",
        "is in Sydney for a new modelling campaign . Australian fans understood to have already located\n",
        "him at his hotel . The 24-year-old heartthrob is recently single .\n",
        "\n",
        "\n",
        "Example 2:\n",
        "\n",
        "prediction: a stray pooch has used up at least three of her own after being hit by a\n",
        "car and buried in a field . the dog managed to stagger to a nearby farm, dirt-covered\n",
        "and emaciated, where she was found . she suffered a dislocated jaw, leg injuries and a\n",
        "caved-in sinus cavity -- and still requires surgery to help her breathe .\n",
        "\n",
        "target: Theia, a bully breed mix, was apparently hit by a car, whacked with a hammer\n",
        "and buried in a field . \"She's a true miracle dog and she deserves a good life,\" says\n",
        "Sara Mellado, who is looking for a home for Theia .\n",
        "\n",
        "\n",
        "Example 3:\n",
        "\n",
        "prediction: mohammad Javad Zarif arrived in Iran on a sunny friday morning . he has gone\n",
        "a long way to bring Iran in from the cold and allow it to rejoin the international\n",
        "community . but there are some facts about him that are less well-known .\n",
        "\n",
        "target: Mohammad Javad Zarif has spent more time with John Kerry than any other\n",
        "foreign minister . He once participated in a takeover of the Iranian Consulate in San\n",
        "Francisco . The Iranian foreign minister tweets in English .\n",
        "\n",
        "\n",
        "Example 4:\n",
        "\n",
        "prediction: five americans were monitored for three weeks after being exposed to Ebola in\n",
        "west africa . one of the five had a heart-related issue and has been discharged but hasn't\n",
        "left the area . they are clinicians for Partners in Health, a Boston-based aid group .\n",
        "\n",
        "target: 17 Americans were exposed to the Ebola virus while in Sierra Leone in March .\n",
        "Another person was diagnosed with the disease and taken to hospital in Maryland .\n",
        "National Institutes of Health says the patient is in fair condition after weeks of\n",
        "treatment .\n",
        "\n",
        "\n",
        "Example 5:\n",
        "\n",
        "prediction: the student was identified during an investigation by campus police and\n",
        "the office of student affairs . he admitted to placing the noose on the tree early\n",
        "Wednesday morning . the incident is one of several recent racist events to affect\n",
        "college students .\n",
        "\n",
        "target: Student is no longer on Duke University campus and will face disciplinary\n",
        "review . School officials identified student during investigation and the person\n",
        "admitted to hanging the noose, Duke says . The noose, made of rope, was discovered on\n",
        "campus about 2 a.m.\n",
        "```\n"
      ]
    },
    {
      "cell_type": "markdown",
      "metadata": {},
      "source": [
        "## Generate Sentiment Classifications\n",
        "\n",
        "Similarly, we can use the model to generate sentiment classifications on the first batch of reviews from the IMDB test set\n",
        "using a beam size of 1.\n",
        "\n",
        "\n"
      ]
    },
    {
      "cell_type": "code",
      "execution_count": null,
      "metadata": {
        "collapsed": false
      },
      "outputs": [],
      "source": [
        "batch = next(iter(imdb_dataloader))\n",
        "input_text = batch[\"text\"]\n",
        "target = batch[\"label\"]\n",
        "beam_size = 1\n",
        "\n",
        "model_input = transform(input_text)\n",
        "model_output = sequence_generator.generate(model_input, eos_idx=eos_idx, num_beams=beam_size)\n",
        "output_text = transform.decode(model_output.tolist())\n",
        "\n",
        "for i in range(imdb_batch_size):\n",
        "    print(f\"Example {i+1}:\\n\")\n",
        "    print(f\"input_text: {input_text[i]}\\n\")\n",
        "    print(f\"prediction: {output_text[i]}\\n\")\n",
        "    print(f\"target: {target[i]}\\n\\n\")"
      ]
    },
    {
      "cell_type": "markdown",
      "metadata": {},
      "source": [
        "## Sentiment Output\n",
        "\n",
        "::\n",
        "\n",
        "   Example 1:\n",
        "\n",
        "   input_text: sst2 sentence: I love sci-fi and am willing to put up with a lot. Sci-fi\n",
        "   movies/TV are usually underfunded, under-appreciated and misunderstood. I tried to like\n",
        "   this, I really did, but it is to good TV sci-fi as Babylon 5 is to Star Trek (the original).\n",
        "   Silly prosthetics, cheap cardboard sets, stilted dialogues, CG that doesn't match the\n",
        "   background, and painfully one-dimensional characters cannot be overcome with a 'sci-fi'\n",
        "   setting. (I'm sure there are those of you out there who think Babylon 5 is good sci-fi TV.\n",
        "   It's not. It's clichéd and uninspiring.) While US viewers might like emotion and character\n",
        "   development, sci-fi is a genre that does not take itself seriously (cf. Star Trek). It may\n",
        "   treat important issues, yet not as a serious philosophy. It's really difficult to care about\n",
        "   the characters here as they are not simply foolish, just missing a spark of life. Their\n",
        "   actions and reactions are wooden and predictable, often painful to watch. The makers of Earth\n",
        "   KNOW it's rubbish as they have to always say \"Gene Roddenberry's Earth...\" otherwise people\n",
        "   would not continue watching. Roddenberry's ashes must be turning in their orbit as this dull,\n",
        "   cheap, poorly edited (watching it without advert breaks really brings this home) trudging\n",
        "   Trabant of a show lumbers into space. Spoiler. So, kill off a main character. And then bring\n",
        "   him back as another actor. Jeeez. Dallas all over again.\n",
        "\n",
        "   prediction: negative\n",
        "\n",
        "   target: negative\n",
        "\n",
        "\n",
        "   Example 2:\n",
        "\n",
        "   input_text: sst2 sentence: Worth the entertainment value of a rental, especially if you like\n",
        "   action movies. This one features the usual car chases, fights with the great Van Damme kick\n",
        "   style, shooting battles with the 40 shell load shotgun, and even terrorist style bombs. All\n",
        "   of this is entertaining and competently handled but there is nothing that really blows you\n",
        "   away if you've seen your share before.<br /><br />The plot is made interesting by the\n",
        "   inclusion of a rabbit, which is clever but hardly profound. Many of the characters are\n",
        "   heavily stereotyped -- the angry veterans, the terrified illegal aliens, the crooked cops,\n",
        "   the indifferent feds, the bitchy tough lady station head, the crooked politician, the fat\n",
        "   federale who looks like he was typecast as the Mexican in a Hollywood movie from the 1940s.\n",
        "   All passably acted but again nothing special.<br /><br />I thought the main villains were\n",
        "   pretty well done and fairly well acted. By the end of the movie you certainly knew who the\n",
        "   good guys were and weren't. There was an emotional lift as the really bad ones got their just\n",
        "   deserts. Very simplistic, but then you weren't expecting Hamlet, right? The only thing I found\n",
        "   really annoying was the constant cuts to VDs daughter during the last fight scene.<br /><br />\n",
        "   Not bad. Not good. Passable 4.\n",
        "\n",
        "   prediction: positive\n",
        "\n",
        "   target: negative\n",
        "\n",
        "\n",
        "   Example 3:\n",
        "\n",
        "   input_text: sst2 sentence: its a totally average film with a few semi-alright action sequences\n",
        "   that make the plot seem a little better and remind the viewer of the classic van dam films.\n",
        "   parts of the plot don't make sense and seem to be added in to use up time. the end plot is that\n",
        "   of a very basic type that doesn't leave the viewer guessing and any twists are obvious from the\n",
        "   beginning. the end scene with the flask backs don't make sense as they are added in and seem to\n",
        "   have little relevance to the history of van dam's character. not really worth watching again,\n",
        "   bit disappointed in the end production, even though it is apparent it was shot on a low budget\n",
        "   certain shots and sections in the film are of poor directed quality.\n",
        "\n",
        "   prediction: negative\n",
        "\n",
        "   target: negative\n",
        "\n",
        "\n"
      ]
    },
    {
      "cell_type": "markdown",
      "metadata": {},
      "source": [
        "## Generate Translations\n",
        "\n",
        "Finally, we can also use the model to generate English to German translations on the first batch of examples from the Multi30k\n",
        "test set.\n",
        "\n",
        "\n"
      ]
    },
    {
      "cell_type": "code",
      "execution_count": null,
      "metadata": {
        "collapsed": false
      },
      "outputs": [],
      "source": [
        "batch = next(iter(multi_dataloader))\n",
        "input_text = batch[\"english\"]\n",
        "target = batch[\"german\"]\n",
        "\n",
        "model_input = transform(input_text)\n",
        "model_output = sequence_generator.generate(model_input, eos_idx=eos_idx, num_beams=beam_size)\n",
        "output_text = transform.decode(model_output.tolist())\n",
        "\n",
        "for i in range(multi_batch_size):\n",
        "    print(f\"Example {i+1}:\\n\")\n",
        "    print(f\"input_text: {input_text[i]}\\n\")\n",
        "    print(f\"prediction: {output_text[i]}\\n\")\n",
        "    print(f\"target: {target[i]}\\n\\n\")"
      ]
    },
    {
      "cell_type": "markdown",
      "metadata": {},
      "source": [
        "## Translation Output\n",
        "\n",
        "::\n",
        "\n",
        "   Example 1:\n",
        "\n",
        "   input_text: translate English to German: A man in an orange hat starring at something.\n",
        "\n",
        "   prediction: Ein Mann in einem orangen Hut, der an etwas schaut.\n",
        "\n",
        "   target: Ein Mann mit einem orangefarbenen Hut, der etwas anstarrt.\n",
        "\n",
        "\n",
        "   Example 2:\n",
        "\n",
        "   input_text: translate English to German: A Boston Terrier is running on lush green grass in front of a white fence.\n",
        "\n",
        "   prediction: Ein Boston Terrier läuft auf üppigem grünem Gras vor einem weißen Zaun.\n",
        "\n",
        "   target: Ein Boston Terrier läuft über saftig-grünes Gras vor einem weißen Zaun.\n",
        "\n",
        "\n",
        "   Example 3:\n",
        "\n",
        "   input_text: translate English to German: A girl in karate uniform breaking a stick with a front kick.\n",
        "\n",
        "   prediction: Ein Mädchen in Karate-Uniform bricht einen Stöck mit einem Frontkick.\n",
        "\n",
        "   target: Ein Mädchen in einem Karateanzug bricht ein Brett mit einem Tritt.\n",
        "\n",
        "\n",
        "   Example 4:\n",
        "\n",
        "   input_text: translate English to German: Five people wearing winter jackets and helmets stand in the snow, with snowmobiles in the background.\n",
        "\n",
        "   prediction: Fünf Menschen mit Winterjacken und Helmen stehen im Schnee, mit Schneemobilen im Hintergrund.\n",
        "\n",
        "   target: Fünf Leute in Winterjacken und mit Helmen stehen im Schnee mit Schneemobilen im Hintergrund.\n",
        "\n",
        "\n",
        "   Example 5:\n",
        "\n",
        "   input_text: translate English to German: People are fixing the roof of a house.\n",
        "\n",
        "   prediction: Die Leute fixieren das Dach eines Hauses.\n",
        "\n",
        "   target: Leute Reparieren das Dach eines Hauses.\n",
        "\n",
        "\n"
      ]
    }
  ],
  "metadata": {
    "kernelspec": {
      "display_name": "Python 3",
      "language": "python",
      "name": "python3"
    },
    "language_info": {
      "codemirror_mode": {
        "name": "ipython",
        "version": 3
      },
      "file_extension": ".py",
      "mimetype": "text/x-python",
      "name": "python",
      "nbconvert_exporter": "python",
      "pygments_lexer": "ipython3",
      "version": "3.12.4"
    }
  },
  "nbformat": 4,
  "nbformat_minor": 0
}
