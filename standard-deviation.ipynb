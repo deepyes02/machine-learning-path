{
 "cells": [
  {
   "cell_type": "markdown",
   "metadata": {},
   "source": [
    "### A teacher recorded this result from his students' math test result. He recorded the scores in intervals just for the sake of understanding this issue. This would be more relevant for large datasets. \n",
    "| Score Interval | Frequency (Number of Students) |\n",
    "|------------|------------|\n",
    "| 0-2 | 3 |\n",
    "| 3-5 | 8 |\n",
    "| 6-8 | 7 |\n",
    "| 9-10 | 2 |"
   ]
  },
  {
   "cell_type": "code",
   "execution_count": 3,
   "metadata": {},
   "outputs": [
    {
     "name": "stdout",
     "output_type": "stream",
     "text": [
      "[1.  4.  7.  9.5]\n"
     ]
    }
   ],
   "source": [
    "import numpy as np\n",
    "lower_bounds = np.array([0,3,6,9])\n",
    "upper_bounds = np.array([2,5,8,10])\n",
    "frequencies = np.array([3,8,7,2])\n",
    "\n",
    "midpoints = (lower_bounds + upper_bounds) / 2 # array([1,4,7,9.5])\n",
    "print(midpoints)\n"
   ]
  },
  {
   "cell_type": "markdown",
   "metadata": {},
   "source": [
    "### Step 2 : Calculate mean for the data\n",
    "\n",
    "| Score (S) | Number of Students(f) | midpoint(x) |\n",
    "|------------|------------|------------| \n",
    "| 0-2 | 3 | 1 |\n",
    "| 3-5 | 8 | 4 |\n",
    "| 6-8 | 7 | 7 |\n",
    "| 9-10 | 2 | 9.5 |\n",
    "\n",
    "mean = Σ(f * midpoint) / ∑(f)"
   ]
  },
  {
   "cell_type": "code",
   "execution_count": 13,
   "metadata": {},
   "outputs": [
    {
     "name": "stdout",
     "output_type": "stream",
     "text": [
      "summation_of_midpoints = 103.0, summation_of_frequencies = 20 and mean = 5.15\n"
     ]
    }
   ],
   "source": [
    "#\n",
    "summation_of_midpoints = np.sum(midpoints * frequencies) # 103\n",
    "summation_of_frequencies = np.sum(frequencies) #20\n",
    "mean = summation_of_midpoints / summation_of_frequencies #5.15\n",
    "print(f\"summation_of_midpoints = {summation_of_midpoints}, summation_of_frequencies = {summation_of_frequencies} and mean = {mean}\")\n",
    "    # print(f\"Example {i+1}:\\n\")"
   ]
  },
  {
   "cell_type": "markdown",
   "metadata": {},
   "source": [
    "### Calculate the variance (Standard deviation)\n",
    "We need to calculate how each data (midpoint in this case) is deviated from the mean, \n",
    "\n",
    "| Score (S) | Number of Students(f) | midpoint(x) | (x - mean) | f(x - mean) |\n",
    "|------------|------------|------------|------------|------------|\n",
    "| 0-2 | 3 | 1 | (1 - 5.15) = -4.15 | 12.45 |\n",
    "| 3-5 | 8 | 4 | (4 - 5.15) = -1.15 | 9.2 |\n",
    "| 6-8 | 7 | 7 | (7 - 5.15) =  1.85 | 12.95 |\n",
    "| 9-10 | 2 | 9.5 | (9.5 - 5.15) = 4.35 | 8.7 |\n",
    "\n",
    "**The above data is telling us something **\n",
    "1. The 3 students scoring 0-2 are each 4.15 marks below the average. These student's have most deviated negatively from the average, meaning they require extra attention.\n",
    "2. The 8 students scroring 3-5 are each 1.15 marks below the average. They could do better with a little push to hit the average.\n",
    "3. The 7 students scoring 6-8 are 1.85 marks above the average. They are doing well above the average but far below the extraordinatry students.\n",
    "4. The 2 students scoring 9-10 are 4.35 marks above the average. They are the most excelling students and their performance is as far above from average as the negative performance of the poorest."
   ]
  },
  {
   "cell_type": "code",
   "execution_count": 25,
   "metadata": {},
   "outputs": [
    {
     "name": "stdout",
     "output_type": "stream",
     "text": [
      "[-12.45  -9.2   12.95   8.7 ]\n",
      "6.202500000000001\n",
      "2.4904818810824545\n"
     ]
    }
   ],
   "source": [
    "midpoint_minus_mean = frequencies * (midpoints - mean)\n",
    "print(midpoint_minus_mean)\n",
    "\n",
    "\n",
    "midpoint_minus_mean_squared_summation = np.sum(frequencies * (midpoints - mean)**2 ) \n",
    "#124.05000000000001\n",
    "# also we already know, \n",
    "summation_of_frequencies #20 \n",
    "\n",
    "# thus, we can now calculate variance\n",
    "variance = midpoint_minus_mean_squared_summation / summation_of_frequencies #6.2025\n",
    "print(variance) \n",
    "\n",
    "# hence standard deviation \n",
    "standard_deviation = np.sqrt(variance) # 2.4904\n",
    "print(standard_deviation)\n"
   ]
  }
 ],
 "metadata": {
  "kernelspec": {
   "display_name": "Python 3",
   "language": "python",
   "name": "python3"
  },
  "language_info": {
   "codemirror_mode": {
    "name": "ipython",
    "version": 3
   },
   "file_extension": ".py",
   "mimetype": "text/x-python",
   "name": "python",
   "nbconvert_exporter": "python",
   "pygments_lexer": "ipython3",
   "version": "3.12.0"
  }
 },
 "nbformat": 4,
 "nbformat_minor": 2
}
