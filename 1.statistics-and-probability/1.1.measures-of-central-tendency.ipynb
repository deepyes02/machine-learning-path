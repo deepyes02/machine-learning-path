{
 "cells": [
  {
   "cell_type": "markdown",
   "metadata": {
    "vscode": {
     "languageId": "plaintext"
    }
   },
   "source": [
    "### The measures of central tendency calculate mean, median and mode of a data.\n",
    "\n",
    "For example, \n",
    "| Score Interval | Frequency (Number of Students) |\n",
    "|------------|------------|\n",
    "| 0-2 | 3 |\n",
    "| 3-5 | 8 |\n",
    "| 6-8 | 7 |\n",
    "| 9-10 | 2 |"
   ]
  },
  {
   "cell_type": "code",
   "execution_count": 18,
   "metadata": {},
   "outputs": [
    {
     "name": "stdout",
     "output_type": "stream",
     "text": [
      "Mean is $5.15\n",
      "Median is $4.0\n",
      "Mode is 4.0, which is repeated 8 times\n"
     ]
    }
   ],
   "source": [
    "import numpy as np\n",
    "from scipy import stats\n",
    "frequency = np.array([3,8,7,2])\n",
    "midpoints = np.array([1,4,7,9.5])\n",
    "\n",
    "##midpoints\n",
    "mean = np.sum(frequency * midpoints) / np.sum(frequency)\n",
    "print(f\"Mean is ${mean}\")\n",
    "\n",
    "\n",
    "##median\n",
    "expanded_data = np.repeat(midpoints, frequency)\n",
    "# print(expanded_data)\n",
    "median = np.median(expanded_data)\n",
    "print(f\"Median is ${median}\")\n",
    "\n",
    "#mode\n",
    "spread_data = stats.mode(expanded_data)\n",
    "print(f\"Mode is {spread_data.mode}, which is repeated {spread_data.count} times\")\n",
    "\n"
   ]
  },
  {
   "cell_type": "code",
   "execution_count": null,
   "metadata": {},
   "outputs": [],
   "source": []
  }
 ],
 "metadata": {
  "kernelspec": {
   "display_name": "Python 3",
   "language": "python",
   "name": "python3"
  },
  "language_info": {
   "codemirror_mode": {
    "name": "ipython",
    "version": 3
   },
   "file_extension": ".py",
   "mimetype": "text/x-python",
   "name": "python",
   "nbconvert_exporter": "python",
   "pygments_lexer": "ipython3",
   "version": "3.12.0"
  }
 },
 "nbformat": 4,
 "nbformat_minor": 2
}
